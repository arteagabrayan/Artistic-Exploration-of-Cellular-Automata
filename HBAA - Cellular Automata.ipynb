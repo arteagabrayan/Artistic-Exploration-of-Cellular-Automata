{
 "cells": [
  {
   "attachments": {},
   "cell_type": "markdown",
   "id": "f413116e",
   "metadata": {},
   "source": [
    "# Cellular Automata Rules"
   ]
  },
  {
   "cell_type": "code",
   "execution_count": null,
   "id": "458a92d3",
   "metadata": {},
   "outputs": [],
   "source": [
    "import numpy as np\n",
    "import matplotlib.pyplot as plt\n",
    "import matplotlib.colors as mcolors\n",
    "import random\n",
    "import os\n",
    "from datetime import datetime\n",
    "\n",
    "colors = {\n",
    "    'Blues': mcolors.LinearSegmentedColormap.from_list(\"Blues\", ['#052E5A', '#93CCEA']),\n",
    "    'CoolCyans': mcolors.LinearSegmentedColormap.from_list(\"CoolCyans\", ['#009DAF', '#43C7D6']),\n",
    "    'CoolGrays': mcolors.LinearSegmentedColormap.from_list(\"CoolGrays\", ['#6C757D', '#B8C2CC']),    \n",
    "    'CoolOranges': mcolors.LinearSegmentedColormap.from_list(\"CoolOranges\", ['#E08300', '#F7C84C']),\n",
    "    'CoolYellows': mcolors.LinearSegmentedColormap.from_list(\"CoolYellows\", ['#C4A000', '#F3D547']),\n",
    "    'CyanBlues': mcolors.LinearSegmentedColormap.from_list(\"CyanBlues\", ['#006380', '#00A0B0']),\n",
    "    'CyanGreens': mcolors.LinearSegmentedColormap.from_list(\"CyanGreens\", ['#007046', '#26A66E']),\n",
    "    'CyanGrays': mcolors.LinearSegmentedColormap.from_list(\"CyanGrays\", ['#5B6166', '#8D959A']),\n",
    "    'CyanYellows': mcolors.LinearSegmentedColormap.from_list(\"CyanYellows\", ['#AA6600', '#FFBE00']),\n",
    "    'DeepCyans': mcolors.LinearSegmentedColormap.from_list(\"DeepCyans\", ['#008B8B', '#00CED1']),\n",
    "    'DeepGrays': mcolors.LinearSegmentedColormap.from_list(\"DeepGrays\", ['#A9A9A9', '#808080']),\n",
    "    'DeepYellows': mcolors.LinearSegmentedColormap.from_list(\"DeepYellows\", ['#DAA520', '#FFD700']),\n",
    "    'GrayGrays': mcolors.LinearSegmentedColormap.from_list(\"GrayGrays\", ['#363636', '#999999']),\n",
    "    'LightBlues': mcolors.LinearSegmentedColormap.from_list(\"LightBlues\", ['#ADD8E6', '#E0FFFF']),\n",
    "    'LightGrays': mcolors.LinearSegmentedColormap.from_list(\"LightGrays\", ['#D3D3D3', '#F5F5F5']),\n",
    "    'WarmCyans': mcolors.LinearSegmentedColormap.from_list(\"WarmCyans\", ['#1E7F9C', '#6BB7C8']),\n",
    "    'WarmGreens': mcolors.LinearSegmentedColormap.from_list(\"WarmGreens\", ['#2E723D', '#82BA5F']),\n",
    "    'WarmGrays': mcolors.LinearSegmentedColormap.from_list(\"WarmGrays\", ['#5B6166', '#AEB6BD']),\n",
    "    'WarmYellows': mcolors.LinearSegmentedColormap.from_list(\"WarmYellows\", ['#C48400', '#FFB500']),\n",
    "    'Yellows': mcolors.LinearSegmentedColormap.from_list(\"Yellows\", ['#CCCC00', '#FFFF00'])\n",
    "}\n",
    "\n",
    "def cellular_automaton_function(rule_num, num_cells=257):\n",
    "    # Converts the rule number to binary and saves it in an array\n",
    "    rule_bin = [int(x) for x in np.binary_repr(rule_num, width=8)]\n",
    "    rule = np.array(rule_bin[::-1])  # it is inverted to match our definitions\n",
    "\n",
    "    num_generations = num_cells // 2\n",
    "\n",
    "    # We define the initial condition (all cells are off except the middle one)\n",
    "    cells = np.zeros(num_cells)\n",
    "    cells[num_cells // 2] = 1\n",
    "\n",
    "    # We create a matrix to save all the generations\n",
    "    generations = np.zeros((num_generations, num_cells))\n",
    "\n",
    "    # We run the cellular automaton\n",
    "    for i in range(num_generations):\n",
    "        generations[i, :] = cells\n",
    "\n",
    "        # Create an array for the next generation\n",
    "        new_cells = np.zeros(num_cells)\n",
    "\n",
    "        # We calculate the new cells according to the rule\n",
    "        for j in range(1, num_cells - 1):\n",
    "            # We get the current state of the cell and its neighbors\n",
    "            state = cells[j - 1:j + 2]\n",
    "\n",
    "            # We convert the state to a binary number and apply the rule\n",
    "            idx = int(\"\".join(str(int(x)) for x in state), 2)\n",
    "            new_cells[j] = rule[idx]\n",
    "\n",
    "        # The new generation becomes the current one\n",
    "        cells = new_cells\n",
    "\n",
    "    # We select a color combination randomly\n",
    "    color_name = random.choice(list(colors.keys()))    \n",
    "    colormap = colors[color_name]\n",
    "\n",
    "    # We draw the cellular automaton with the random color combination\n",
    "    fig, ax = plt.subplots(figsize=(20, 10))\n",
    "    ax.imshow(generations, cmap=colormap)\n",
    "\n",
    "    # We add the white box without borders\n",
    "    message = f\"Rule {rule_num} \\n Art of Cellular Automata\"\n",
    "\n",
    "    bbox_props = dict(boxstyle=\"round,pad=0.3\", fc=\"white\", lw=0)  # We remove the parameter ec=\"black\" to remove the borders\n",
    "    ax.text(num_cells//2, num_cells//2 - 12, message, fontsize=40, ha='center', va='center', bbox=bbox_props, fontname='Sans-serif')\n",
    "\n",
    "    plt.axis('off')\n",
    "    plt.tight_layout()  # Adjust the margins of the figure\n",
    "\n",
    "    # Create directory \"imgs\" if it doesn't exist\n",
    "    if not os.path.exists(\"imgs\"):\n",
    "        os.makedirs(\"imgs\")\n",
    "\n",
    "    # Get current time\n",
    "    now = datetime.now()\n",
    "    hhmmss = now.strftime(\"%H%M%S\")\n",
    "\n",
    "    # Filename\n",
    "    filename = f\"imgs/Rule{rule_num}{hhmmss}\"\n",
    "\n",
    "    # Save image in .png format\n",
    "    plt.savefig(f\"{filename}.png\", format=\"png\", dpi=300, bbox_inches='tight')\n",
    "\n",
    "    # Save image in .pdf format\n",
    "    plt.savefig(f\"{filename}.pdf\", format=\"pdf\", bbox_inches='tight')\n",
    "\n",
    "    plt.show()\n"
   ]
  },
  {
   "cell_type": "code",
   "execution_count": null,
   "id": "c7efbae6",
   "metadata": {},
   "outputs": [],
   "source": [
    "cellular_automaton_function(30)\n"
   ]
  },
  {
   "cell_type": "code",
   "execution_count": null,
   "id": "6ee50376",
   "metadata": {},
   "outputs": [],
   "source": [
    "cellular_automaton_function(90)"
   ]
  },
  {
   "cell_type": "code",
   "execution_count": null,
   "id": "c4f7f12c",
   "metadata": {},
   "outputs": [],
   "source": [
    "cellular_automaton_function(110)\n"
   ]
  },
  {
   "attachments": {},
   "cell_type": "markdown",
   "id": "aee485ad",
   "metadata": {},
   "source": [
    "# Game of Life"
   ]
  },
  {
   "cell_type": "code",
   "execution_count": null,
   "id": "359cc124",
   "metadata": {},
   "outputs": [],
   "source": [
    "import numpy as np\n",
    "import matplotlib.pyplot as plt\n",
    "from matplotlib.animation import FuncAnimation, FFMpegWriter\n",
    "from IPython.display import HTML\n",
    "import random\n",
    "from datetime import datetime\n",
    "import os\n",
    "\n",
    "def game_of_life(groups=40, generations=100, num_cells=80):\n",
    "    # We define the initial condition (several patterns)\n",
    "    cells = np.zeros((num_cells, num_cells))\n",
    "    patterns = {\n",
    "        \"glider\": np.array([[0, 1, 0], [0, 0, 1], [1, 1, 1]]),\n",
    "        \"block\": np.array([[1, 1], [1, 1]]),\n",
    "        \"blinker\": np.array([[1, 1, 1]]),\n",
    "        \"boat\": np.array([[1, 1, 0], [1, 0, 1], [0, 1, 0]]),\n",
    "        \"frog\": np.array([[1, 1, 1, 0, 0, 1, 1, 1]]),\n",
    "        \"plane\": np.array([[0, 1, 0], [1, 1, 1], [1, 0, 1], [0, 1, 0]]),\n",
    "        \"lightweight_spaceship\": np.array([[0, 0, 1, 1, 0], [1, 1, 0, 1, 1], [1, 1, 1, 1, 1], [1, 1, 1, 0, 0]])\n",
    "    }\n",
    "    for _ in range(groups):\n",
    "        # We choose a random pattern and position\n",
    "        pattern = random.choice(list(patterns.values()))\n",
    "        x, y = np.random.randint(0, num_cells - max(pattern.shape), size=2)\n",
    "        cells[x:x+pattern.shape[0], y:y+pattern.shape[1]] = pattern\n",
    "\n",
    "    # We create a matrix to store all generations\n",
    "    generations_arr = np.zeros((generations, num_cells, num_cells))\n",
    "\n",
    "    def generation_step(cells):\n",
    "        new_cells = np.zeros((num_cells, num_cells))\n",
    "        for j in range(1, num_cells-1):\n",
    "            for k in range(1, num_cells-1):\n",
    "                state = cells[j-1:j+2, k-1:k+2]\n",
    "                living_neighbours = np.sum(state) - cells[j, k]\n",
    "                if cells[j, k] == 1 and (living_neighbours == 2 or living_neighbours == 3):\n",
    "                    new_cells[j, k] = 1\n",
    "                elif cells[j, k] == 0 and living_neighbours == 3:\n",
    "                    new_cells[j, k] = 1\n",
    "        return new_cells\n",
    "\n",
    "    # We run the cellular automaton\n",
    "    for i in range(generations):\n",
    "        generations_arr[i, :, :] = cells\n",
    "        cells = generation_step(cells)\n",
    "\n",
    "    # We prepare the figure for animation\n",
    "    fig = plt.figure(figsize=(6, 6))\n",
    "\n",
    "    im = plt.imshow(generations_arr[0, :, :], cmap='binary')\n",
    "\n",
    "    def update(i):\n",
    "        im.set_array(generations_arr[i, :, :])\n",
    "\n",
    "    ani = FuncAnimation(fig, update, frames=generations, interval=500)\n",
    "\n",
    "    # Create directory \"imgs\" if it does not exist\n",
    "    if not os.path.exists(\"imgs\"):\n",
    "        os.makedirs(\"imgs\")\n",
    "\n",
    "    # Get current time\n",
    "    now = datetime.now()\n",
    "    hhmmss = now.strftime(\"%H%M%S\")\n",
    "\n",
    "    # Filename\n",
    "    filename = f\"imgs/GameOfLife{hhmmss}\"\n",
    "\n",
    "    # Set up the video writer\n",
    "    writer = FFMpegWriter(fps=30)\n",
    "\n",
    "    # Save the animation as .mp4 without axes frame\n",
    "    with writer.saving(fig, f\"{filename}.mp4\", dpi=300):\n",
    "        for i in range(generations):\n",
    "            update(i)\n",
    "            writer.grab_frame()\n",
    "\n",
    "    plt.close(fig)\n",
    "\n",
    "    return HTML(ani.to_jshtml())\n"
   ]
  },
  {
   "cell_type": "code",
   "execution_count": null,
   "id": "96f9fc1a",
   "metadata": {},
   "outputs": [],
   "source": [
    "# Start simulation of the game of life\n",
    "game_of_life(groups=140, generations=200, num_cells=100)\n"
   ]
  },
  {
   "attachments": {},
   "cell_type": "markdown",
   "id": "20cca51f",
   "metadata": {},
   "source": [
    "# Cellular Automata Rules AND Game of Life"
   ]
  },
  {
   "cell_type": "code",
   "execution_count": null,
   "id": "33a438ee",
   "metadata": {},
   "outputs": [],
   "source": [
    "import os\n",
    "from matplotlib.animation import FuncAnimation, FFMpegWriter\n",
    "import random\n",
    "from datetime import datetime\n",
    "import numpy as np\n",
    "import matplotlib.pyplot as plt\n",
    "import matplotlib.animation as animation\n",
    "from IPython.display import HTML\n",
    "\n",
    "def generate_rule(n):\n",
    "    n_bin = format(n, '08b')\n",
    "    combinations = [(1, 1, 1), (1, 1, 0), (1, 0, 1), (1, 0, 0), (0, 1, 1), (0, 1, 0), (0, 0, 1), (0, 0, 0)]\n",
    "    rule = {combinations[i]: int(n_bin[i]) for i in range(8)}\n",
    "    return rule\n",
    "\n",
    "def update_cells(data, num_cells, rule, board, img):\n",
    "    new_board = board.copy()\n",
    "\n",
    "    for i in range(num_cells - 1, num_cells // 2, -1):\n",
    "        for j in range(1, num_cells - 1):\n",
    "            new_board[i - 1, j] = rule[(board[i, j - 1], board[i, j], board[i, j + 1])]\n",
    "\n",
    "    for i in range(num_cells // 2 - 1, -1, -1):\n",
    "        for j in range(1, num_cells - 1):\n",
    "            neighbors = board[i - 1:i + 2, j - 1:j + 2]\n",
    "            total = np.sum(neighbors) - board[i, j]\n",
    "            if board[i, j] == 1:\n",
    "                if total < 2 or total > 3:\n",
    "                    new_board[i, j] = 0\n",
    "            elif total == 3:\n",
    "                new_board[i, j] = 1\n",
    "\n",
    "    board[...] = new_board\n",
    "    img.set_array(board)\n",
    "    return img,\n",
    "\n",
    "def create_animation(rule_num, num_cells):\n",
    "    board = np.zeros((num_cells, num_cells))\n",
    "    board[-1, num_cells // 2] = 1\n",
    "    rule = generate_rule(rule_num)\n",
    "\n",
    "    fig, ax = plt.subplots(figsize=(num_cells / 20, num_cells / 20))\n",
    "    ax.set_xticks([])\n",
    "    ax.set_yticks([])\n",
    "    ax.axis('off')\n",
    "\n",
    "    img = ax.imshow(board, cmap='binary', interpolation='nearest')\n",
    "    ani = animation.FuncAnimation(fig, update_cells, fargs=(num_cells, rule, board, img), frames=5 * num_cells, interval=100, blit=True)\n",
    "\n",
    "    # Create directory \"imgs\" if it does not exist\n",
    "    if not os.path.exists(\"imgs\"):\n",
    "        os.makedirs(\"imgs\")\n",
    "\n",
    "    # Get current time\n",
    "    now = datetime.now()\n",
    "    hhmmss = now.strftime(\"%H%M%S\")\n",
    "\n",
    "    # Filename\n",
    "    filename = f\"imgs/{rule_num}-Animation{hhmmss}\"\n",
    "\n",
    "    # Set up the video writer\n",
    "    writer = animation.FFMpegWriter(fps=30)\n",
    "\n",
    "    # Save the animation as .mp4 without axes frame\n",
    "    with writer.saving(fig, f\"{filename}.mp4\", dpi=300):\n",
    "        for i in range(5 * num_cells):\n",
    "            update_cells(i, num_cells, rule, board, img)\n",
    "            writer.grab_frame()\n",
    "\n",
    "    plt.close(fig)\n",
    "\n",
    "    # Get the HTML of the video\n",
    "    video_html = ani.to_jshtml()\n",
    "\n",
    "    # Display the video in the notebook from the start\n",
    "    return display(HTML(video_html))\n"
   ]
  },
  {
   "cell_type": "code",
   "execution_count": null,
   "id": "4bc10cd4",
   "metadata": {},
   "outputs": [],
   "source": [
    "animation = create_animation(rule_num=30, num_cells=150)\n",
    "animation"
   ]
  },
  {
   "cell_type": "code",
   "execution_count": null,
   "id": "c94198d3",
   "metadata": {},
   "outputs": [],
   "source": [
    "animation = create_animation(rule_num=86, num_cells=150)\n",
    "animation"
   ]
  },
  {
   "cell_type": "code",
   "execution_count": null,
   "id": "1c073db4",
   "metadata": {},
   "outputs": [],
   "source": [
    "animation = create_animation(rule_num=110, num_cells=150)\n",
    "animation"
   ]
  },
  {
   "cell_type": "code",
   "execution_count": null,
   "id": "ff5462f7",
   "metadata": {},
   "outputs": [],
   "source": [
    "animation = create_animation(rule_num=124, num_cells=150)\n",
    "animation"
   ]
  },
  {
   "cell_type": "code",
   "execution_count": null,
   "id": "cde9dde0",
   "metadata": {},
   "outputs": [],
   "source": [
    "animation = create_animation(rule_num=182, num_cells=150)\n",
    "animation"
   ]
  },
  {
   "cell_type": "code",
   "execution_count": null,
   "id": "e1fce92e",
   "metadata": {},
   "outputs": [],
   "source": [
    "animation = create_animation(rule_num=206, num_cells=150)\n",
    "animation"
   ]
  },
  {
   "cell_type": "code",
   "execution_count": null,
   "id": "60728cb9",
   "metadata": {},
   "outputs": [],
   "source": [
    "animation = create_animation(rule_num=214, num_cells=150)\n",
    "animation"
   ]
  },
  {
   "cell_type": "code",
   "execution_count": null,
   "id": "0a471719",
   "metadata": {},
   "outputs": [],
   "source": [
    "animation = create_animation(rule_num=220, num_cells=150)\n",
    "animation"
   ]
  },
  {
   "cell_type": "code",
   "execution_count": null,
   "id": "8a68f6ac",
   "metadata": {},
   "outputs": [],
   "source": [
    "animation = create_animation(rule_num=222, num_cells=150)\n",
    "animation"
   ]
  },
  {
   "cell_type": "code",
   "execution_count": null,
   "id": "1b7217a6",
   "metadata": {},
   "outputs": [],
   "source": [
    "animation = create_animation(rule_num=238, num_cells=150)\n",
    "animation"
   ]
  },
  {
   "cell_type": "code",
   "execution_count": null,
   "id": "d737eab2",
   "metadata": {},
   "outputs": [],
   "source": [
    "animation = create_animation(rule_num=246, num_cells=150)\n",
    "animation"
   ]
  },
  {
   "cell_type": "code",
   "execution_count": null,
   "id": "c618c75e",
   "metadata": {},
   "outputs": [],
   "source": [
    "animation = create_animation(rule_num=254, num_cells=150)\n",
    "animation"
   ]
  },
  {
   "cell_type": "code",
   "execution_count": null,
   "id": "cf619189",
   "metadata": {},
   "outputs": [],
   "source": []
  }
 ],
 "metadata": {
  "kernelspec": {
   "display_name": "Python 3 (ipykernel)",
   "language": "python",
   "name": "python3"
  },
  "language_info": {
   "codemirror_mode": {
    "name": "ipython",
    "version": 3
   },
   "file_extension": ".py",
   "mimetype": "text/x-python",
   "name": "python",
   "nbconvert_exporter": "python",
   "pygments_lexer": "ipython3",
   "version": "3.10.9"
  }
 },
 "nbformat": 4,
 "nbformat_minor": 5
}
